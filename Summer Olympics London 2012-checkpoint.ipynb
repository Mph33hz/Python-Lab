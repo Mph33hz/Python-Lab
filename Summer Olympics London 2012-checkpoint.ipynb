{
 "cells": [
  {
   "cell_type": "markdown",
   "metadata": {},
   "source": [
    "\n",
    "\n",
    "#  Evaluate the Summer Olympics, London 2012 dataset\n",
    "\n",
    "DESCRIPTION\n",
    "\n",
    "Problem: \n",
    "\n",
    "- Evaluate the dataset of the Summer Olympics, London 2012 to:\n",
    "\n",
    "- Find and print the name of the country that won maximum gold medals,\n",
    "- Find and print the countries who won more than 20 gold medals,\n",
    "- Print the medal tally,\n",
    "- Print each country name with the corresponding number of gold medals, and\n",
    "- Print each country's name with the total number of medals won."
   ]
  },
  {
   "cell_type": "markdown",
   "metadata": {},
   "source": [
    "#### 1: View and add the dataset"
   ]
  },
  {
   "cell_type": "code",
   "execution_count": 1,
   "metadata": {},
   "outputs": [],
   "source": [
    "#Import the necessary library\n",
    "import numpy as np"
   ]
  },
  {
   "cell_type": "code",
   "execution_count": 2,
   "metadata": {},
   "outputs": [],
   "source": [
    "#Manually add the Summer Olympics, London 2012 dataset as arrays\n",
    "Olympic_country = np.array(['Great Britain','China','Russia','United States','Korea',\n",
    "                            'Japan','Germany'])\n",
    "Olympic_country_code = np.array(['GBR','CHN','RUS','US','KOR','JPN','GER'])\n",
    "Olympic_Year = np.array(['2012','2012','2012','2012','2012','2012','2012'])\n",
    "Olympic_Gold = np.array([29,38,24,46,13,7,11])\n",
    "Olympic_Silver = np.array([17,28,25,28,8,14,11])\n",
    "Olympic_Bronze = np.array([19,22,32,29,7,17,14])"
   ]
  },
  {
   "cell_type": "markdown",
   "metadata": {},
   "source": [
    "#### Find the country with maximum gold medals"
   ]
  },
  {
   "cell_type": "code",
   "execution_count": 3,
   "metadata": {},
   "outputs": [],
   "source": [
    "#Use the argmax() method to find the highest number of gold medals\n",
    "Highest_no_gold = Olympic_Gold.argmax()\n",
    "country_with_highest_no_gold = Olympic_Gold[Highest_no_gold]"
   ]
  },
  {
   "cell_type": "code",
   "execution_count": 4,
   "metadata": {},
   "outputs": [
    {
     "name": "stdout",
     "output_type": "stream",
     "text": [
      "46\n"
     ]
    }
   ],
   "source": [
    "#Print the name of the country\n",
    "print(country_with_highest_no_gold)"
   ]
  },
  {
   "cell_type": "markdown",
   "metadata": {},
   "source": [
    "#### Find the countries with more than 20 gold medals"
   ]
  },
  {
   "cell_type": "code",
   "execution_count": 5,
   "metadata": {},
   "outputs": [
    {
     "name": "stdout",
     "output_type": "stream",
     "text": [
      "['Great Britain' 'China' 'Russia' 'United States']\n"
     ]
    }
   ],
   "source": [
    "#Use Boolean indexing technique to find the required output\n",
    "print(Olympic_country[Olympic_Gold>20])"
   ]
  },
  {
   "cell_type": "markdown",
   "metadata": {},
   "source": [
    "#### Evaluate the dataset and print the name of each country with its gold medals and total number of medals"
   ]
  },
  {
   "cell_type": "code",
   "execution_count": 6,
   "metadata": {},
   "outputs": [
    {
     "name": "stdout",
     "output_type": "stream",
     "text": [
      "Great Britain, gold medals 29 and total number of medals  65\n",
      "China, gold medals 38 and total number of medals  88\n",
      "Russia, gold medals 24 and total number of medals  81\n",
      "United States, gold medals 46 and total number of medals  103\n",
      "Korea, gold medals 13 and total number of medals  28\n",
      "Japan, gold medals 7 and total number of medals  38\n",
      "Germany, gold medals 11 and total number of medals  36\n"
     ]
    }
   ],
   "source": [
    "#Use a for loop to create the required output\n",
    "for i in range(len(Olympic_country)):\n",
    "    j = Olympic_country[i]\n",
    "    k = Olympic_Gold[i]\n",
    "    l = Olympic_Gold[i]+Olympic_Silver[i]+Olympic_Bronze[i]\n",
    "    print('{}, gold medals {} and total number of medals  {}'.format(j,k,l))"
   ]
  },
  {
   "cell_type": "code",
   "execution_count": null,
   "metadata": {},
   "outputs": [],
   "source": []
  }
 ],
 "metadata": {
  "kernelspec": {
   "display_name": "Python 3",
   "language": "python",
   "name": "python3"
  },
  "language_info": {
   "codemirror_mode": {
    "name": "ipython",
    "version": 3
   },
   "file_extension": ".py",
   "mimetype": "text/x-python",
   "name": "python",
   "nbconvert_exporter": "python",
   "pygments_lexer": "ipython3",
   "version": "3.7.6"
  }
 },
 "nbformat": 4,
 "nbformat_minor": 1
}
